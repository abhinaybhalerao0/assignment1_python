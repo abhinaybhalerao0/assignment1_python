{
 "cells": [
  {
   "cell_type": "code",
   "execution_count": 4,
   "id": "4fca28c4-ec0b-4a02-a6fe-937c082429f2",
   "metadata": {},
   "outputs": [
    {
     "name": "stdout",
     "output_type": "stream",
     "text": [
      "HELLO PYTHON\n"
     ]
    }
   ],
   "source": [
    "###1. Write a Python program to print \\\"Hello Python\\\"?\"\n",
    "\n",
    "print(\"HELLO PYTHON\")"
   ]
  },
  {
   "cell_type": "code",
   "execution_count": 6,
   "id": "4150a21e-eca4-42f4-b300-a0dcc0707051",
   "metadata": {},
   "outputs": [
    {
     "name": "stdin",
     "output_type": "stream",
     "text": [
      "enter the first no.  50\n",
      "enter the second no.  25\n"
     ]
    }
   ],
   "source": [
    "###2. Write a Python program to do arithmetical operations addition and division.?\\n\"\n",
    "num1 = float(input(\"enter the first no. \"))\n",
    "num2 = float(input(\"enter the second no. \"))\n",
    "             \n"
   ]
  },
  {
   "cell_type": "code",
   "execution_count": 9,
   "id": "55441eb2-552c-4385-a16e-b8c2a132adc8",
   "metadata": {},
   "outputs": [
    {
     "name": "stdout",
     "output_type": "stream",
     "text": [
      "75.0\n"
     ]
    }
   ],
   "source": [
    "sum = num1 + num2\n",
    "print(sum)"
   ]
  },
  {
   "cell_type": "code",
   "execution_count": 10,
   "id": "f3fed07a-3490-4910-a25e-3f9c7b11139c",
   "metadata": {},
   "outputs": [
    {
     "name": "stdout",
     "output_type": "stream",
     "text": [
      "2.0\n"
     ]
    }
   ],
   "source": [
    "div = num1/num2\n",
    "print(div)"
   ]
  },
  {
   "cell_type": "code",
   "execution_count": 16,
   "id": "69b779c8-7974-4fb1-b56e-88789ace6bf8",
   "metadata": {},
   "outputs": [
    {
     "name": "stdin",
     "output_type": "stream",
     "text": [
      "enter first no. 25\n",
      "enter second no. 100\n"
     ]
    }
   ],
   "source": [
    "###\"### 3. Write a Python program to find the area of a triangle?\n",
    "base=float(input(\"enter first no.\"))\n",
    "height=float(input(\"enter second no.\"))           \n"
   ]
  },
  {
   "cell_type": "code",
   "execution_count": 17,
   "id": "e795cff3-d12c-46f4-a8e7-5f6da648538c",
   "metadata": {},
   "outputs": [],
   "source": [
    "area = 0.5 * base * height"
   ]
  },
  {
   "cell_type": "code",
   "execution_count": 18,
   "id": "93a3f8d6-d111-4019-9d94-d0013c5b11a9",
   "metadata": {},
   "outputs": [
    {
     "name": "stdout",
     "output_type": "stream",
     "text": [
      "area of traingle is  1250.0\n"
     ]
    }
   ],
   "source": [
    "print(\"area of traingle is \", area)"
   ]
  },
  {
   "cell_type": "code",
   "execution_count": 19,
   "id": "8a26d248-c2fb-4339-9675-cd514409d96e",
   "metadata": {},
   "outputs": [
    {
     "name": "stdin",
     "output_type": "stream",
     "text": [
      "enter the value of x 25\n",
      "enter the value of y 100\n"
     ]
    }
   ],
   "source": [
    "### 4. Write a Python program to swap two variables?\n",
    "x = input(\"enter the value of x\")\n",
    "y = input(\"enter the value of y\")\n",
    "###swaping the value of x and y using temperory variable\n",
    "temp = x\n",
    "x = y\n",
    "y = temp\n"
   ]
  },
  {
   "cell_type": "code",
   "execution_count": 21,
   "id": "010dc1ed-613b-41f0-b7ac-a6b424bc2f3e",
   "metadata": {},
   "outputs": [
    {
     "name": "stdout",
     "output_type": "stream",
     "text": [
      "after swaping\n",
      "x= 100\n",
      "y= 25\n"
     ]
    }
   ],
   "source": [
    "print(\"after swaping\")\n",
    "print(\"x=\", x)\n",
    "print(\"y=\",y)"
   ]
  },
  {
   "cell_type": "code",
   "execution_count": 23,
   "id": "1cf438fe-8497-4378-b85a-aa436ced8bb1",
   "metadata": {},
   "outputs": [],
   "source": [
    "### 5. Write a Python program to generate a random number?\n",
    "import random"
   ]
  },
  {
   "cell_type": "code",
   "execution_count": 25,
   "id": "9f4654d5-36fc-4af0-9aa3-d5da1874f87d",
   "metadata": {},
   "outputs": [
    {
     "name": "stdout",
     "output_type": "stream",
     "text": [
      "the random no. 80\n"
     ]
    }
   ],
   "source": [
    "random_no = random.randint(1,100)\n",
    "print(\"the random no.\", random_no)"
   ]
  },
  {
   "cell_type": "code",
   "execution_count": null,
   "id": "147c50b7-5aca-4ec6-a48f-855d91cee07f",
   "metadata": {},
   "outputs": [],
   "source": []
  }
 ],
 "metadata": {
  "kernelspec": {
   "display_name": "Python 3 (ipykernel)",
   "language": "python",
   "name": "python3"
  },
  "language_info": {
   "codemirror_mode": {
    "name": "ipython",
    "version": 3
   },
   "file_extension": ".py",
   "mimetype": "text/x-python",
   "name": "python",
   "nbconvert_exporter": "python",
   "pygments_lexer": "ipython3",
   "version": "3.10.6"
  }
 },
 "nbformat": 4,
 "nbformat_minor": 5
}
